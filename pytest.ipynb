{
 "cells": [
  {
   "cell_type": "code",
   "execution_count": 2,
   "id": "dcf38684",
   "metadata": {},
   "outputs": [],
   "source": [
    "import pandas as panda\n",
    "import nfl_data_py as nfl"
   ]
  },
  {
   "cell_type": "code",
   "execution_count": 3,
   "id": "f67dddd4",
   "metadata": {},
   "outputs": [
    {
     "name": "stdout",
     "output_type": "stream",
     "text": [
      "2024 done.\n",
      "Downcasting floats.\n"
     ]
    }
   ],
   "source": [
    "pbp_py = nfl.import_pbp_data([2024])"
   ]
  },
  {
   "cell_type": "code",
   "execution_count": 4,
   "id": "44ac3ba8",
   "metadata": {},
   "outputs": [],
   "source": [
    "filter_crit = 'play_type == \"pass\" & air_yards.notnull()'\n",
    "pbp_py_p = (\n",
    "    pbp_py.query(filter_crit)\n",
    "    .groupby([\"passer_id\", \"passer\"])\n",
    "    .agg({\"air_yards\": [\"count\", \"mean\"]})\n",
    ")"
   ]
  },
  {
   "cell_type": "code",
   "execution_count": 5,
   "id": "206f89e8",
   "metadata": {},
   "outputs": [
    {
     "name": "stdout",
     "output_type": "stream",
     "text": [
      "                                air_yards_count  air_yards_mean\n",
      "passer_id  passer                                              \n",
      "00-0039164 A.Richardson                     262       12.305344\n",
      "00-0039917 M.Penix                          105       10.219048\n",
      "00-0036971 T.Lawrence                       283        9.395760\n",
      "00-0031503 J.Winston                        295        8.949153\n",
      "00-0026158 J.Flacco                         248        8.931452\n",
      "00-0036355 J.Herbert                        533        8.894935\n",
      "00-0036264 J.Love                           458        8.807860\n",
      "00-0039150 B.Young                          384        8.744792\n",
      "00-0034796 L.Jackson                        514        8.723736\n",
      "00-0039152 W.Levis                          301        8.707642\n",
      "00-0037834 B.Purdy                          450        8.677778\n",
      "00-0034869 S.Darnold                        584        8.607877\n",
      "00-0039163 C.Stroud                         592        8.464527\n",
      "00-0034857 J.Allen                          564        8.326241\n",
      "00-0039376 S.Rattler                        227        8.079295\n",
      "00-0039918 C.Williams                       558        8.039427\n",
      "00-0029263 R.Wilson                         363        8.022038\n",
      "00-0033077 D.Prescott                       284        7.989437\n",
      "00-0038579 A.O'Connell                      242        7.938016\n",
      "00-0035993 T.Huntley                        132        7.848485\n",
      "00-0036945 J.Fields                         161        7.807454\n",
      "00-0031280 D.Carr                           279        7.806452\n",
      "00-0026498 M.Stafford                       587        7.684838\n",
      "00-0036389 J.Hurts                          451        7.609756\n",
      "00-0029604 K.Cousins                        449        7.514477\n",
      "00-0035710 D.Jones                          337        7.445104\n",
      "00-0039732 B.Nix                            588        7.442177\n",
      "00-0036972 M.Jones                          262        7.358778\n",
      "00-0039851 D.Maye                           337        7.338279\n",
      "00-0033537 D.Watson                         216        7.263889\n",
      "00-0034771 M.Rudolph                        225        7.248889\n",
      "00-0039910 J.Daniels                        592        7.222973\n",
      "00-0036442 J.Burrow                         651        7.087558\n",
      "00-0034855 B.Mayfield                       587        7.000000\n",
      "00-0033662 C.Rush                           307        6.960912\n",
      "00-0030565 G.Smith                          576        6.940972\n",
      "00-0023459 A.Rodgers                        584        6.873288\n",
      "00-0035228 K.Murray                         540        6.838889\n",
      "00-0033119 J.Brissett                       160        6.831250\n",
      "00-0027973 A.Dalton                         160        6.637500\n",
      "00-0033106 J.Goff                           573        6.527050\n",
      "00-0033873 P.Mahomes                        662        6.450151\n",
      "00-0035704 D.Lock                           180        6.150000\n",
      "00-0035289 G.Minshew II                     303        6.099010\n",
      "00-0038583 D.Thompson-Robinson              118        6.016949\n",
      "00-0036212 T.Tagovailoa                     397        5.720403\n"
     ]
    }
   ],
   "source": [
    "pbp_py_p.columns = list(map(\"_\".join, pbp_py_p.columns.values))\n",
    "sort_crit = \"air_yards_count > 100\"\n",
    "print(\n",
    "    pbp_py_p.query(sort_crit)\\\n",
    "    .sort_values(by=\"air_yards_mean\", ascending=[False])\\\n",
    "    .to_string()\n",
    ")"
   ]
  }
 ],
 "metadata": {
  "kernelspec": {
   "display_name": "Python 3",
   "language": "python",
   "name": "python3"
  },
  "language_info": {
   "codemirror_mode": {
    "name": "ipython",
    "version": 3
   },
   "file_extension": ".py",
   "mimetype": "text/x-python",
   "name": "python",
   "nbconvert_exporter": "python",
   "pygments_lexer": "ipython3",
   "version": "3.11.0"
  }
 },
 "nbformat": 4,
 "nbformat_minor": 5
}
