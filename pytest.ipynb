{
 "cells": [
  {
   "cell_type": "code",
   "execution_count": 1,
   "id": "dcf38684",
   "metadata": {},
   "outputs": [],
   "source": [
    "import pandas as panda\n",
    "import nfl_data_py as nfl"
   ]
  },
  {
   "cell_type": "code",
   "execution_count": 2,
   "id": "f67dddd4",
   "metadata": {},
   "outputs": [
    {
     "name": "stdout",
     "output_type": "stream",
     "text": [
      "2021 done.\n",
      "Downcasting floats.\n"
     ]
    }
   ],
   "source": [
    "pbp_py = nfl.import_pbp_data([2021])"
   ]
  },
  {
   "cell_type": "code",
   "execution_count": 14,
   "id": "44ac3ba8",
   "metadata": {},
   "outputs": [],
   "source": [
    "filter_crit = 'play_type == \"pass\" & air_yards.notnull()'\n",
    "pbp_py_p = (\n",
    "    pbp_py.query(filter_crit)\n",
    "    .groupby([\"passer_id\", \"passer\"])\n",
    "    .agg({\"air_yards\": [\"count\", \"mean\"]})\n",
    ")"
   ]
  },
  {
   "cell_type": "code",
   "execution_count": 15,
   "id": "206f89e8",
   "metadata": {},
   "outputs": [
    {
     "name": "stdout",
     "output_type": "stream",
     "text": [
      "                             air_yards_count  air_yards_mean\n",
      "passer_id  passer                                           \n",
      "00-0035704 D.Lock                        110       10.063637\n",
      "00-0029263 R.Wilson                      400        9.887500\n",
      "00-0036945 J.Fields                      268        9.869403\n",
      "00-0034796 L.Jackson                     378        9.349206\n",
      "00-0036389 J.Hurts                       473        9.190275\n",
      "00-0034855 B.Mayfield                    416        8.795673\n",
      "00-0026498 M.Stafford                    740        8.508108\n",
      "00-0031503 J.Winston                     161        8.322982\n",
      "00-0029604 K.Cousins                     556        8.224820\n",
      "00-0034857 J.Allen                       708        8.224576\n",
      "00-0031280 D.Carr                        676        8.128698\n",
      "00-0031237 T.Bridgewater                 426        8.037559\n",
      "00-0035228 K.Murray                      515        7.965048\n",
      "00-0019596 T.Brady                       808        7.920792\n",
      "00-0036971 T.Lawrence                    599        7.909850\n",
      "00-0036972 M.Jones                       557        7.901257\n",
      "00-0033077 D.Prescott                    638        7.838558\n",
      "00-0036442 J.Burrow                      659        7.748103\n",
      "00-0023459 A.Rodgers                     556        7.741007\n",
      "00-0031800 T.Heinicke                    491        7.696537\n",
      "00-0032950 C.Wentz                       516        7.629845\n",
      "00-0029701 R.Tannehill                   554        7.608303\n",
      "00-0035993 T.Huntley                     185        7.605405\n",
      "00-0033119 J.Brissett                    224        7.602679\n",
      "00-0037013 Z.Wilson                      382        7.552356\n",
      "00-0036355 J.Herbert                     671        7.538003\n",
      "00-0033357 T.Hill                        132        7.507576\n",
      "00-0028118 T.Taylor                      149        7.429530\n",
      "00-0030520 M.Glennon                     164        7.378049\n",
      "00-0035710 D.Jones                       360        7.333333\n",
      "00-0036898 D.Mills                       392        7.318878\n",
      "00-0031345 J.Garoppolo                   511        7.305284\n",
      "00-0034869 S.Darnold                     405        7.239506\n",
      "00-0026143 M.Ryan                        559        7.161002\n",
      "00-0032156 T.Siemian                     187        7.106952\n",
      "00-0033873 P.Mahomes                     780        7.080769\n",
      "00-0036212 T.Tagovailoa                  387        7.067183\n",
      "00-0027973 A.Dalton                      235        6.987234\n",
      "00-0027939 C.Newton                      126        6.968254\n",
      "00-0022924 B.Roethlisberger              647        6.783617\n",
      "00-0033106 J.Goff                        489        6.441718\n",
      "00-0034401 M.White                       132        5.916667\n"
     ]
    }
   ],
   "source": [
    "pbp_py_p.columns = list(map(\"_\".join, pbp_py_p.columns.values))\n",
    "sort_crit = \"air_yards_count > 100\"\n",
    "print(\n",
    "    pbp_py_p.query(sort_crit)\\\n",
    "    .sort_values(by=\"air_yards_mean\", ascending=[False])\\\n",
    "    .to_string()\n",
    ")"
   ]
  }
 ],
 "metadata": {
  "kernelspec": {
   "display_name": "Python 3",
   "language": "python",
   "name": "python3"
  },
  "language_info": {
   "codemirror_mode": {
    "name": "ipython",
    "version": 3
   },
   "file_extension": ".py",
   "mimetype": "text/x-python",
   "name": "python",
   "nbconvert_exporter": "python",
   "pygments_lexer": "ipython3",
   "version": "3.11.0"
  }
 },
 "nbformat": 4,
 "nbformat_minor": 5
}
